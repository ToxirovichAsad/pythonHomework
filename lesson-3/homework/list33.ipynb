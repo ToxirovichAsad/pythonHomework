{
 "cells": [
  {
   "cell_type": "code",
   "execution_count": 13,
   "metadata": {},
   "outputs": [
    {
     "name": "stdout",
     "output_type": "stream",
     "text": [
      "[1, 5, 10, 11, 15, 17, 19]\n"
     ]
    }
   ],
   "source": [
    "my_list = [1, 2, 3, 4, 5, 2, 3, 4, 5, 5, 2, 2, 3, 42, 423, 2, 34, 2, 43, 2]\n",
    "number_target = 2 \n",
    "indices_list = []\n",
    "lengthing = len(my_list)\n",
    "\n",
    "while lengthing > 0:\n",
    "    lengthing -= 1\n",
    "    if my_list[lengthing] == number_target:\n",
    "        indices_list.append(lengthing)\n",
    "indices_list.reverse()\n",
    "print(indices_list)\n"
   ]
  }
 ],
 "metadata": {
  "kernelspec": {
   "display_name": "Python 3",
   "language": "python",
   "name": "python3"
  },
  "language_info": {
   "codemirror_mode": {
    "name": "ipython",
    "version": 3
   },
   "file_extension": ".py",
   "mimetype": "text/x-python",
   "name": "python",
   "nbconvert_exporter": "python",
   "pygments_lexer": "ipython3",
   "version": "3.12.8"
  }
 },
 "nbformat": 4,
 "nbformat_minor": 2
}
