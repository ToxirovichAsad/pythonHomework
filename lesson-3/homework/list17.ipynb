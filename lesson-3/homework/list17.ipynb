{
 "cells": [
  {
   "cell_type": "code",
   "execution_count": null,
   "metadata": {},
   "outputs": [
    {
     "name": "stdout",
     "output_type": "stream",
     "text": [
      "[1, 2, 3, 4, 5, 5, 6, 7, 8, 9, 10]\n"
     ]
    }
   ],
   "source": [
    "first_list = [1, 2, 3, 4, 5]\n",
    "second_list = [5,6, 7, 8, 9, 10]\n",
    "concantinated_list = first_list + second_list #is we need no duplicates we can use set and then list\n",
    "print(concantinated_list)"
   ]
  }
 ],
 "metadata": {
  "kernelspec": {
   "display_name": "Python 3",
   "language": "python",
   "name": "python3"
  },
  "language_info": {
   "codemirror_mode": {
    "name": "ipython",
    "version": 3
   },
   "file_extension": ".py",
   "mimetype": "text/x-python",
   "name": "python",
   "nbconvert_exporter": "python",
   "pygments_lexer": "ipython3",
   "version": "3.12.8"
  }
 },
 "nbformat": 4,
 "nbformat_minor": 2
}
