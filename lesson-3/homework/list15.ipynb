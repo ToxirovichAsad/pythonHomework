{
 "cells": [
  {
   "cell_type": "code",
   "execution_count": 1,
   "metadata": {},
   "outputs": [
    {
     "name": "stdout",
     "output_type": "stream",
     "text": [
      "Number of even numbers:  5\n"
     ]
    }
   ],
   "source": [
    "interger_list = [1, 2, 3, 4, 5, 6, 7, 8, 9, 10]\n",
    "even_numbers_count = 0\n",
    "odd_numbers_count = 0\n",
    "for number in interger_list:\n",
    "    if number % 2 == 0:\n",
    "        even_numbers_count += 1\n",
    "    else:\n",
    "        odd_numbers_count += 1\n",
    "print(\"Number of even numbers: \", even_numbers_count)"
   ]
  }
 ],
 "metadata": {
  "kernelspec": {
   "display_name": "Python 3",
   "language": "python",
   "name": "python3"
  },
  "language_info": {
   "codemirror_mode": {
    "name": "ipython",
    "version": 3
   },
   "file_extension": ".py",
   "mimetype": "text/x-python",
   "name": "python",
   "nbconvert_exporter": "python",
   "pygments_lexer": "ipython3",
   "version": "3.12.8"
  }
 },
 "nbformat": 4,
 "nbformat_minor": 2
}
